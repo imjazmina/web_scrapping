{
 "cells": [
  {
   "cell_type": "code",
   "execution_count": 2,
   "id": "161a70a9",
   "metadata": {},
   "outputs": [
    {
     "name": "stdout",
     "output_type": "stream",
     "text": [
      "Defaulting to user installation because normal site-packages is not writeable\n",
      "Requirement already satisfied: BeautifulSoup4 in c:\\users\\soporte\\appdata\\roaming\\python\\python313\\site-packages (4.13.4)\n",
      "Requirement already satisfied: soupsieve>1.2 in c:\\users\\soporte\\appdata\\roaming\\python\\python313\\site-packages (from BeautifulSoup4) (2.7)\n",
      "Requirement already satisfied: typing-extensions>=4.0.0 in c:\\users\\soporte\\appdata\\roaming\\python\\python313\\site-packages (from BeautifulSoup4) (4.14.1)\n"
     ]
    }
   ],
   "source": [
    "!pip install BeautifulSoup4"
   ]
  },
  {
   "cell_type": "code",
   "execution_count": 16,
   "id": "ca5e9edc",
   "metadata": {},
   "outputs": [
    {
     "name": "stderr",
     "output_type": "stream",
     "text": [
      "C:\\Users\\soporte\\AppData\\Local\\Temp\\ipykernel_22944\\1569491476.py:22: DeprecationWarning: Call to deprecated method findAll. (Replaced by find_all) -- Deprecated since version 4.0.0.\n",
      "  links = bookshelf.findAll(\"a\")\n"
     ]
    },
    {
     "ename": "ValueError",
     "evalue": "unknown url type: 'catalogue/category/books/travel_2/index.html'",
     "output_type": "error",
     "traceback": [
      "\u001b[31m---------------------------------------------------------------------------\u001b[39m",
      "\u001b[31mValueError\u001b[39m                                Traceback (most recent call last)",
      "\u001b[36mCell\u001b[39m\u001b[36m \u001b[39m\u001b[32mIn[16]\u001b[39m\u001b[32m, line 34\u001b[39m\n\u001b[32m     31\u001b[39m     i=i+\u001b[32m1\u001b[39m \u001b[38;5;66;03m# just to ignore the first\u001b[39;00m\n\u001b[32m     33\u001b[39m \u001b[38;5;28;01mfor\u001b[39;00m genero \u001b[38;5;129;01min\u001b[39;00m lista_libros:\n\u001b[32m---> \u001b[39m\u001b[32m34\u001b[39m     uGender = \u001b[43muReq\u001b[49m\u001b[43m(\u001b[49m\u001b[43mgenero\u001b[49m\u001b[43m)\u001b[49m\n\u001b[32m     35\u001b[39m     pagina_libro = uGender.read()\n\u001b[32m     36\u001b[39m     uGender.close()\n",
      "\u001b[36mFile \u001b[39m\u001b[32mc:\\Python313\\Lib\\urllib\\request.py:189\u001b[39m, in \u001b[36murlopen\u001b[39m\u001b[34m(url, data, timeout, context)\u001b[39m\n\u001b[32m    187\u001b[39m \u001b[38;5;28;01melse\u001b[39;00m:\n\u001b[32m    188\u001b[39m     opener = _opener\n\u001b[32m--> \u001b[39m\u001b[32m189\u001b[39m \u001b[38;5;28;01mreturn\u001b[39;00m \u001b[43mopener\u001b[49m\u001b[43m.\u001b[49m\u001b[43mopen\u001b[49m\u001b[43m(\u001b[49m\u001b[43murl\u001b[49m\u001b[43m,\u001b[49m\u001b[43m \u001b[49m\u001b[43mdata\u001b[49m\u001b[43m,\u001b[49m\u001b[43m \u001b[49m\u001b[43mtimeout\u001b[49m\u001b[43m)\u001b[49m\n",
      "\u001b[36mFile \u001b[39m\u001b[32mc:\\Python313\\Lib\\urllib\\request.py:473\u001b[39m, in \u001b[36mOpenerDirector.open\u001b[39m\u001b[34m(self, fullurl, data, timeout)\u001b[39m\n\u001b[32m    470\u001b[39m \u001b[38;5;28;01mdef\u001b[39;00m\u001b[38;5;250m \u001b[39m\u001b[34mopen\u001b[39m(\u001b[38;5;28mself\u001b[39m, fullurl, data=\u001b[38;5;28;01mNone\u001b[39;00m, timeout=socket._GLOBAL_DEFAULT_TIMEOUT):\n\u001b[32m    471\u001b[39m     \u001b[38;5;66;03m# accept a URL or a Request object\u001b[39;00m\n\u001b[32m    472\u001b[39m     \u001b[38;5;28;01mif\u001b[39;00m \u001b[38;5;28misinstance\u001b[39m(fullurl, \u001b[38;5;28mstr\u001b[39m):\n\u001b[32m--> \u001b[39m\u001b[32m473\u001b[39m         req = \u001b[43mRequest\u001b[49m\u001b[43m(\u001b[49m\u001b[43mfullurl\u001b[49m\u001b[43m,\u001b[49m\u001b[43m \u001b[49m\u001b[43mdata\u001b[49m\u001b[43m)\u001b[49m\n\u001b[32m    474\u001b[39m     \u001b[38;5;28;01melse\u001b[39;00m:\n\u001b[32m    475\u001b[39m         req = fullurl\n",
      "\u001b[36mFile \u001b[39m\u001b[32mc:\\Python313\\Lib\\urllib\\request.py:292\u001b[39m, in \u001b[36mRequest.__init__\u001b[39m\u001b[34m(self, url, data, headers, origin_req_host, unverifiable, method)\u001b[39m\n\u001b[32m    289\u001b[39m \u001b[38;5;28;01mdef\u001b[39;00m\u001b[38;5;250m \u001b[39m\u001b[34m__init__\u001b[39m(\u001b[38;5;28mself\u001b[39m, url, data=\u001b[38;5;28;01mNone\u001b[39;00m, headers={},\n\u001b[32m    290\u001b[39m              origin_req_host=\u001b[38;5;28;01mNone\u001b[39;00m, unverifiable=\u001b[38;5;28;01mFalse\u001b[39;00m,\n\u001b[32m    291\u001b[39m              method=\u001b[38;5;28;01mNone\u001b[39;00m):\n\u001b[32m--> \u001b[39m\u001b[32m292\u001b[39m     \u001b[38;5;28;43mself\u001b[39;49m\u001b[43m.\u001b[49m\u001b[43mfull_url\u001b[49m = url\n\u001b[32m    293\u001b[39m     \u001b[38;5;28mself\u001b[39m.headers = {}\n\u001b[32m    294\u001b[39m     \u001b[38;5;28mself\u001b[39m.unredirected_hdrs = {}\n",
      "\u001b[36mFile \u001b[39m\u001b[32mc:\\Python313\\Lib\\urllib\\request.py:318\u001b[39m, in \u001b[36mRequest.full_url\u001b[39m\u001b[34m(self, url)\u001b[39m\n\u001b[32m    316\u001b[39m \u001b[38;5;28mself\u001b[39m._full_url = unwrap(url)\n\u001b[32m    317\u001b[39m \u001b[38;5;28mself\u001b[39m._full_url, \u001b[38;5;28mself\u001b[39m.fragment = _splittag(\u001b[38;5;28mself\u001b[39m._full_url)\n\u001b[32m--> \u001b[39m\u001b[32m318\u001b[39m \u001b[38;5;28;43mself\u001b[39;49m\u001b[43m.\u001b[49m\u001b[43m_parse\u001b[49m\u001b[43m(\u001b[49m\u001b[43m)\u001b[49m\n",
      "\u001b[36mFile \u001b[39m\u001b[32mc:\\Python313\\Lib\\urllib\\request.py:347\u001b[39m, in \u001b[36mRequest._parse\u001b[39m\u001b[34m(self)\u001b[39m\n\u001b[32m    345\u001b[39m \u001b[38;5;28mself\u001b[39m.type, rest = _splittype(\u001b[38;5;28mself\u001b[39m._full_url)\n\u001b[32m    346\u001b[39m \u001b[38;5;28;01mif\u001b[39;00m \u001b[38;5;28mself\u001b[39m.type \u001b[38;5;129;01mis\u001b[39;00m \u001b[38;5;28;01mNone\u001b[39;00m:\n\u001b[32m--> \u001b[39m\u001b[32m347\u001b[39m     \u001b[38;5;28;01mraise\u001b[39;00m \u001b[38;5;167;01mValueError\u001b[39;00m(\u001b[33m\"\u001b[39m\u001b[33munknown url type: \u001b[39m\u001b[38;5;132;01m%r\u001b[39;00m\u001b[33m\"\u001b[39m % \u001b[38;5;28mself\u001b[39m.full_url)\n\u001b[32m    348\u001b[39m \u001b[38;5;28mself\u001b[39m.host, \u001b[38;5;28mself\u001b[39m.selector = _splithost(rest)\n\u001b[32m    349\u001b[39m \u001b[38;5;28;01mif\u001b[39;00m \u001b[38;5;28mself\u001b[39m.host:\n",
      "\u001b[31mValueError\u001b[39m: unknown url type: 'catalogue/category/books/travel_2/index.html'"
     ]
    }
   ],
   "source": [
    "# import web grabbing client and\n",
    "# HTML parser\n",
    "from urllib.request import urlopen as uReq\n",
    "from bs4 import BeautifulSoup as soup\n",
    "\n",
    "# variable to store website link as string\n",
    "myurl = 'http://books.toscrape.com/index.html'\n",
    "\n",
    "# grab website and store in variable uclient\n",
    "uClient = uReq(myurl)\n",
    "\n",
    "# read and close HTML para no sobrecargar de pedidos\n",
    "page_html = uClient.read()\n",
    "uClient.close()\n",
    "\n",
    "# call BeautifulSoup for parsing\n",
    "page_soup = soup(page_html, \"html.parser\")\n",
    "\n",
    "# grabs all the products under list tag\n",
    "bookshelf = page_soup.find(\n",
    "    \"ul\", {\"class\": \"nav nav-list\"})\n",
    "links = bookshelf.findAll(\"a\")\n",
    "\n",
    "lista_libros= []\n",
    "i=0\n",
    "for link in links:\n",
    "    if i != 0:\n",
    "        # collect link of all genders\n",
    "        a = link.get(\"href\")\n",
    "        lista_libros.append(a)\n",
    "    i=i+1 # just to ignore the first\n",
    "\n",
    "for genero in lista_libros:\n",
    "    uGender = uReq(genero)\n",
    "    pagina_libro = uGender.read()\n",
    "    uGender.close()\n",
    "\n",
    "    gender_soup =(pagina_libro, \"html.parser\")\n",
    "    libro = gender_soup.findAll(\"li\", {\"class\": \"col-xs-6 col-sm-4 col-md-3 col-lg-3\"})\n",
    "    direccion = libro.findAll(\"a\")\n",
    "    for direc in direccion:\n",
    "        direcciones = direc.get(\"href\")\n",
    "        print(direcciones, \"\\n\")\n"
   ]
  }
 ],
 "metadata": {
  "kernelspec": {
   "display_name": "Python 3",
   "language": "python",
   "name": "python3"
  },
  "language_info": {
   "codemirror_mode": {
    "name": "ipython",
    "version": 3
   },
   "file_extension": ".py",
   "mimetype": "text/x-python",
   "name": "python",
   "nbconvert_exporter": "python",
   "pygments_lexer": "ipython3",
   "version": "3.13.5"
  }
 },
 "nbformat": 4,
 "nbformat_minor": 5
}

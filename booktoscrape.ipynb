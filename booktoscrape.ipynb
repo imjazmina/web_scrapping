{
 "cells": [
  {
   "cell_type": "code",
   "execution_count": 2,
   "id": "161a70a9",
   "metadata": {},
   "outputs": [
    {
     "name": "stdout",
     "output_type": "stream",
     "text": [
      "Defaulting to user installation because normal site-packages is not writeable\n",
      "Requirement already satisfied: BeautifulSoup4 in c:\\users\\soporte\\appdata\\roaming\\python\\python313\\site-packages (4.13.4)\n",
      "Requirement already satisfied: soupsieve>1.2 in c:\\users\\soporte\\appdata\\roaming\\python\\python313\\site-packages (from BeautifulSoup4) (2.7)\n",
      "Requirement already satisfied: typing-extensions>=4.0.0 in c:\\users\\soporte\\appdata\\roaming\\python\\python313\\site-packages (from BeautifulSoup4) (4.14.1)\n"
     ]
    }
   ],
   "source": [
    "!pip install BeautifulSoup4"
   ]
  },
  {
   "cell_type": "code",
   "execution_count": null,
   "id": "ca5e9edc",
   "metadata": {},
   "outputs": [
    {
     "name": "stdout",
     "output_type": "stream",
     "text": [
      "1 Genero :Travel\n",
      "2 Genero :Mystery\n",
      "3 Genero :Historical Fiction\n",
      "4 Genero :Sequential Art\n",
      "5 Genero :Classics\n",
      "6 Genero :Philosophy\n",
      "7 Genero :Romance\n",
      "8 Genero :Womens Fiction\n",
      "9 Genero :Fiction\n",
      "10 Genero :Childrens\n",
      "11 Genero :Religion\n",
      "12 Genero :Nonfiction\n",
      "13 Genero :Music\n",
      "14 Genero :Default\n",
      "15 Genero :Science Fiction\n",
      "16 Genero :Sports and Games\n",
      "17 Genero :Add a comment\n",
      "18 Genero :Fantasy\n",
      "19 Genero :New Adult\n",
      "20 Genero :Young Adult\n",
      "21 Genero :Science\n",
      "22 Genero :Poetry\n",
      "23 Genero :Paranormal\n",
      "24 Genero :Art\n",
      "25 Genero :Psychology\n",
      "26 Genero :Autobiography\n",
      "27 Genero :Parenting\n",
      "28 Genero :Adult Fiction\n",
      "29 Genero :Humor\n",
      "30 Genero :Horror\n",
      "31 Genero :History\n",
      "32 Genero :Food and Drink\n",
      "33 Genero :Christian Fiction\n",
      "34 Genero :Business\n",
      "35 Genero :Biography\n",
      "36 Genero :Thriller\n",
      "37 Genero :Contemporary\n",
      "38 Genero :Spirituality\n",
      "39 Genero :Academic\n",
      "40 Genero :Self Help\n",
      "41 Genero :Historical\n",
      "42 Genero :Christian\n",
      "43 Genero :Suspense\n",
      "44 Genero :Short Stories\n",
      "45 Genero :Novels\n",
      "46 Genero :Health\n",
      "47 Genero :Politics\n",
      "48 Genero :Cultural\n",
      "49 Genero :Erotica\n",
      "50 Genero :Crime\n",
      "51\n"
     ]
    },
    {
     "name": "stderr",
     "output_type": "stream",
     "text": [
      "C:\\Users\\soporte\\AppData\\Local\\Temp\\ipykernel_22944\\2729368815.py:22: DeprecationWarning: Call to deprecated method findAll. (Replaced by find_all) -- Deprecated since version 4.0.0.\n",
      "  links = bookshelf.findAll(\"a\")\n"
     ]
    }
   ],
   "source": [
    "# import web grabbing client and\n",
    "# HTML parser\n",
    "from urllib.request import urlopen as uReq\n",
    "from bs4 import BeautifulSoup as soup\n",
    "\n",
    "# variable to store website link as string\n",
    "myurl = 'http://books.toscrape.com/index.html'\n",
    "\n",
    "# grab website and store in variable uclient\n",
    "uClient = uReq(myurl)\n",
    "\n",
    "# read and close HTML para no sobrecargar de pedidos\n",
    "page_html = uClient.read()\n",
    "uClient.close()\n",
    "\n",
    "# call BeautifulSoup for parsing\n",
    "page_soup = soup(page_html, \"html.parser\")\n",
    "\n",
    "# grabs all the products under list tag\n",
    "bookshelf = page_soup.find(\n",
    "    \"ul\", {\"class\": \"nav nav-list\"})\n",
    "links = bookshelf.findAll(\"a\")\n",
    "\n",
    "headers = \"Book genders links \\n\"\n",
    "\n",
    "i=0\n",
    "for link in links:\n",
    "    if i != 0:\n",
    "        # collect link of all genders\n",
    "        a = link.text.strip()\n",
    "        print(i,\"Genero :\" + a)\n",
    "    i=i+1 # just because \n",
    "\n",
    "print(i)\n"
   ]
  }
 ],
 "metadata": {
  "kernelspec": {
   "display_name": "Python 3",
   "language": "python",
   "name": "python3"
  },
  "language_info": {
   "codemirror_mode": {
    "name": "ipython",
    "version": 3
   },
   "file_extension": ".py",
   "mimetype": "text/x-python",
   "name": "python",
   "nbconvert_exporter": "python",
   "pygments_lexer": "ipython3",
   "version": "3.13.5"
  }
 },
 "nbformat": 4,
 "nbformat_minor": 5
}

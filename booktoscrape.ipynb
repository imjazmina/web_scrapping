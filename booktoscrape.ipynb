{
 "cells": [
  {
   "cell_type": "code",
   "execution_count": null,
   "id": "ca5e9edc",
   "metadata": {},
   "outputs": [],
   "source": [
    "# import web grabbing client and\n",
    "# HTML parser\n",
    "from urllib.request import urlopen as uReq\n",
    "from bs4 import BeautifulSoup as soup\n",
    "\n",
    "# variable to store website link as string\n",
    "myurl = 'http://books.toscrape.com/index.html'\n",
    "\n",
    "# grab website and store in variable uclient\n",
    "uClient = uReq(myurl)\n",
    "\n",
    "# read and close HTML\n",
    "page_html = uClient.read()\n",
    "uClient.close()\n",
    "\n",
    "# call BeautifulSoup for parsing\n",
    "page_soup = soup(page_html, \"html.parser\")\n",
    "\n",
    "# grabs all the products under list tag\n",
    "bookshelf = page_soup.findAll(\n",
    "    \"li\", {\"class\": \"col-xs-6 col-sm-4 col-md-3 col-lg-3\"})\n",
    "\n",
    "# create csv file of all products\n",
    "filename = (\"Books.csv\")\n",
    "f = open(filename, \"w\")\n",
    "\n",
    "headers = \"Book title, Price\\n\"\n",
    "f.write(headers)\n",
    "\n",
    "for books in bookshelf:\n",
    "\n",
    "    # collect title of all books\n",
    "    book_title = books.h3.a[\"title\"]\n",
    "\n",
    "    # collect book price of all books\n",
    "    book_price = books.findAll(\"p\", {\"class\": \"price_color\"})\n",
    "    price = book_price[0].text.strip()\n",
    "\n",
    "    print(\"Title of the book :\" + book_title)\n",
    "    print(\"Price of the book :\" + price)\n",
    "\n",
    "    f.write(book_title + \",\" + price+\"\\n\")\n",
    "\n",
    "f.close()"
   ]
  }
 ],
 "metadata": {
  "language_info": {
   "name": "python"
  }
 },
 "nbformat": 4,
 "nbformat_minor": 5
}
